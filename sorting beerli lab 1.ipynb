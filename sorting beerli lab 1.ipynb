{
 "cells": [
  {
   "cell_type": "code",
   "execution_count": 2,
   "metadata": {},
   "outputs": [
    {
     "name": "stdout",
     "output_type": "stream",
     "text": [
      "initial list = [20.84336358 96.04970928 11.01289031 92.33667515 93.12835534 38.44956584\n",
      " 75.03059065 41.21412613 84.98194002 87.76109132  0.55978754  4.2528107\n",
      " 34.17835289 73.71217247  8.39891057 44.70245735 44.27935487  4.76325382\n",
      " 63.85028772 75.81610311 80.70072503 73.75179642 79.03221185 27.62580075\n",
      "  4.21486226]\n",
      "[ 0  1  2  3  4  5  6  7  8  9 10 11 12 13 14 15 16 17 18 19 20 21 22 23\n",
      " 24]\n",
      "final sorted list = [ 0.55978754  4.21486226  4.2528107   4.76325382  8.39891057 11.01289031\n",
      " 20.84336358 27.62580075 34.17835289 38.44956584 41.21412613 44.27935487\n",
      " 44.70245735 63.85028772 73.71217247 73.75179642 75.03059065 75.81610311\n",
      " 79.03221185 80.70072503 84.98194002 87.76109132 92.33667515 93.12835534\n",
      " 96.04970928]\n",
      "[10 24 11 17 14  2  0 23 12  5  7 16 15 18 13 21  6 19 22 20  8  9  3  4\n",
      "  1]\n"
     ]
    }
   ],
   "source": [
    "#modules\n",
    "import numpy as np\n",
    "\n",
    "#initializing and printing random list\n",
    "a = 100 * np.random.rand(25)\n",
    "print(\"initial list =\", a)\n",
    "\n",
    "n = len(a)\n",
    "index = np.arange(0,n)\n",
    "print(index)\n",
    "for i in range(len(a)):\n",
    "    mini = i\n",
    "    for j in range(i+1, len(a)):\n",
    "        if a[mini] > a[j]:\n",
    "            mini = j\n",
    "    a[i], a[mini] = a[mini], a[i]\n",
    "    index[i], index[mini] = index[mini], index[i]\n",
    "print('final sorted list =', a)  \n",
    "print(index)"
   ]
  },
  {
   "cell_type": "code",
   "execution_count": 3,
   "metadata": {},
   "outputs": [
    {
     "name": "stdout",
     "output_type": "stream",
     "text": [
      "initial list = [ 0.91737025 21.65559877 86.7735141  85.05831707 19.96186352 27.14667586\n",
      "  9.02855965  9.81189488 19.46642309  6.30110004 91.91465005 93.21731094\n",
      " 87.33773643  3.08239982 16.92049452 95.44723572  9.46434621 38.50436673\n",
      " 27.16429332 68.95761535 70.23589808 89.93579522 58.32870289  0.30369778\n",
      " 77.9645411 ]\n",
      "indices = [ 0  1  2  3  4  5  6  7  8  9 10 11 12 13 14 15 16 17 18 19 20 21 22 23\n",
      " 24]\n",
      "final list = [ 0.30369778  0.91737025  3.08239982  6.30110004  9.02855965  9.46434621\n",
      "  9.81189488 16.92049452 19.46642309 19.96186352 21.65559877 27.14667586\n",
      " 27.16429332 38.50436673 58.32870289 68.95761535 70.23589808 77.9645411\n",
      " 85.05831707 86.7735141  87.33773643 89.93579522 91.91465005 93.21731094\n",
      " 95.44723572]\n",
      "indices = [23  0 13  9  6 16  7 14  8  4  1  5 18 17 22 19 20 24  3  2 12 21 10 11\n",
      " 15]\n"
     ]
    }
   ],
   "source": [
    "b = 100* np.random.rand(25)\n",
    "print(\"initial list =\", b)\n",
    "blen = len(b)\n",
    "index2 = np.arange(0,blen)\n",
    "print('indices =', index2)\n",
    "for x in range(blen-1):\n",
    "    for y in range(0, blen-x-1):\n",
    "        if b[y] > b[y+1]:\n",
    "            b[y], b[y+1] = b[y+1], b[y]\n",
    "            index2[y], index2[y+1] = index2[y+1], index2[y]\n",
    "            \n",
    "print('final list =', b)\n",
    "print('indices =',index2)"
   ]
  },
  {
   "cell_type": "code",
   "execution_count": null,
   "metadata": {},
   "outputs": [],
   "source": []
  },
  {
   "cell_type": "code",
   "execution_count": null,
   "metadata": {},
   "outputs": [],
   "source": []
  },
  {
   "cell_type": "code",
   "execution_count": null,
   "metadata": {},
   "outputs": [],
   "source": []
  }
 ],
 "metadata": {
  "kernelspec": {
   "display_name": "Python 3",
   "language": "python",
   "name": "python3"
  },
  "language_info": {
   "codemirror_mode": {
    "name": "ipython",
    "version": 3
   },
   "file_extension": ".py",
   "mimetype": "text/x-python",
   "name": "python",
   "nbconvert_exporter": "python",
   "pygments_lexer": "ipython3",
   "version": "3.7.4"
  }
 },
 "nbformat": 4,
 "nbformat_minor": 2
}
