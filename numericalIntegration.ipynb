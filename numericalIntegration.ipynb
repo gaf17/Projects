{
 "cells": [
  {
   "cell_type": "code",
   "execution_count": 64,
   "metadata": {},
   "outputs": [],
   "source": [
    "import numpy as np\n",
    "import matplotlib.pyplot as plt\n",
    "import scipy as sci"
   ]
  },
  {
   "cell_type": "code",
   "execution_count": 54,
   "metadata": {
    "scrolled": true
   },
   "outputs": [
    {
     "name": "stdout",
     "output_type": "stream",
     "text": [
      "Value of integral (n = 1) is  -6.189201390180031e-08\n",
      "Value of integral (n = 1) is  -0.24506456681314376\n",
      "Value of integral (n = 1) is  -0.3581040742857076\n",
      "Value of integral (n = 1) is  -0.40809004725601505\n",
      "[0.4444443825524305, 0.19937987763130066, 0.0863403701587368, 0.036354397188429366]\n"
     ]
    },
    {
     "data": {
      "text/plain": [
       "[<matplotlib.lines.Line2D at 0x27f09712488>]"
      ]
     },
     "execution_count": 54,
     "metadata": {},
     "output_type": "execute_result"
    },
    {
     "data": {
      "image/png": "[encoded data removed]",
      "text/plain": [
       "<Figure size 432x288 with 1 Axes>"
      ]
     },
     "metadata": {
      "needs_background": "light"
     },
     "output_type": "display_data"
    },
    {
     "data": {
      "image/png": "[encoded data removed]",
      "text/plain": [
       "<Figure size 432x288 with 1 Axes>"
      ]
     },
     "metadata": {
      "needs_background": "light"
     },
     "output_type": "display_data"
    }
   ],
   "source": [
    "def y( x ): \n",
    "      \n",
    "    # Declaring the function  \n",
    "    # f(x) = 1/(1+x*x) \n",
    "    return np.sqrt(x) * np.log(x)\n",
    "      \n",
    "# Function to evalute the value of integral \n",
    "def trapezoidal (a, b, n): \n",
    "      \n",
    "    # Grid spacing \n",
    "    h = (b - a) / n \n",
    "      \n",
    "    # Computing sum of first and last terms \n",
    "    # in above formula \n",
    "    s = (y(a) + y(b)) \n",
    "  \n",
    "    # Adding middle terms in above formula \n",
    "    i = 1\n",
    "    while i < n: \n",
    "        s += 2 * y(a + i * h) \n",
    "        i += 1\n",
    "          \n",
    "    # h/2 indicates (b-a)/2n.  \n",
    "    # Multiplying h/2 with s. \n",
    "    return ((h / 2) * s) \n",
    "\n",
    "n1 = trapezoidal(0.00000000000000001, 1, 1)\n",
    "n2 = trapezoidal(0.00000000000000001, 1, 2)\n",
    "n4 = trapezoidal(0.00000000000000001, 1, 4)\n",
    "n8 = trapezoidal(0.00000000000000001, 1, 8)\n",
    "\n",
    "print (\"Value of integral (n = 1) is \", \n",
    "     n1) \n",
    "print (\"Value of integral (n = 1) is \", \n",
    "     n2) \n",
    "print (\"Value of integral (n = 1) is \", \n",
    "     n4) \n",
    "print (\"Value of integral (n = 1) is \", \n",
    "     n8) \n",
    "ns = [1, 2, 4, 8]\n",
    "error1 = abs(-4/9 - n1)\n",
    "error2 = abs(-4/9 - n2)\n",
    "error4 = abs(-4/9 - n4)\n",
    "error8 = abs(-4/9 - n8)\n",
    "\n",
    "absErrors = [error1, error2, error4, error8]\n",
    "print(absErrors)\n",
    "\n",
    "plt.title('Abs Error')\n",
    "plt.plot(ns, absErrors)\n",
    "\n",
    "plt.figure()\n",
    "relError = [error1/(-4/9), error2/(-4/9), error4/(-4/9), error8/(-4/9)]\n",
    "plt.title('Rel Error')\n",
    "plt.plot(ns, relError)"
   ]
  },
  {
   "cell_type": "code",
   "execution_count": 12,
   "metadata": {},
   "outputs": [
    {
     "name": "stdout",
     "output_type": "stream",
     "text": [
      "0.881812425294116\n",
      "abs error is 0.00026896546588406345\n"
     ]
    }
   ],
   "source": [
    "import numpy as np\n",
    "import matplotlib.pyplot as plt\n",
    "\n",
    "class Simp:\n",
    "    \n",
    "    def __init__ (self, func, a, b, intervals):\n",
    "        \n",
    "        self.func = func\n",
    "        self.a = a\n",
    "        self.b = b\n",
    "        self.intervals = intervals\n",
    "    \n",
    "    def solve(self):\n",
    "        bins = (self.b-self.a)/self.intervals\n",
    "        k = 0.0\n",
    "        forw = self.a + bins\n",
    "        for i in range(1,int(self.intervals/2) + 1):\n",
    "            k += 4 * self.func(forw)\n",
    "            forw += 2*bins\n",
    "    \n",
    "        forw = self.a + 2*bins\n",
    "        for i in range(1,int(self.intervals/2)):\n",
    "            k += 2*self.func(forw)\n",
    "            forw += 2*bins\n",
    "        self.answer = (bins/3)*(self.func(self.a)+self.func(self.b)+k)\n",
    "        return self.answer\n",
    "\n",
    "Func = lambda x: np.exp(-x**2)\n",
    "\n",
    "simp = Simp(Func, 0, 2, 4)\n",
    "interv1 = simp.solve()\n",
    "print(interv1)\n",
    "print(\"abs error is\", abs(0.88208139076 - interv1))\n",
    "# true answer = 0.88208139076\n"
   ]
  },
  {
   "cell_type": "code",
   "execution_count": 13,
   "metadata": {},
   "outputs": [
    {
     "name": "stdout",
     "output_type": "stream",
     "text": [
      "0.882224037224385\n",
      "abs error is 0.00014264646438499895\n"
     ]
    }
   ],
   "source": [
    "# four point formula = \n",
    "# b-a/2 is one, so no changes besides adding one to the xstars\n",
    "f = lambda x: np.exp(-x**2)\n",
    "fpf = 0.34785*(f(-0.861136+1)+f(0.861136+1))+ 0.652145*(f(-0.339981+1)+f(0.339981+1))\n",
    "print(fpf)\n",
    "print(\"abs error is\", abs(0.88208139076 - fpf))"
   ]
  },
  {
   "cell_type": "code",
   "execution_count": 21,
   "metadata": {},
   "outputs": [
    {
     "name": "stdout",
     "output_type": "stream",
     "text": [
      "0.8656753458705546\n"
     ]
    }
   ],
   "source": [
    "funct = lambda x: 1/(np.exp(x)+np.exp(-x))\n",
    "Ia = 0.34785*(funct(-0.861136)+funct(0.861136))+ 0.652145*(funct(-0.339981)+funct(0.339981))\n",
    "print(Ia)\n",
    "# true ans = .86576..."
   ]
  },
  {
   "cell_type": "code",
   "execution_count": 23,
   "metadata": {},
   "outputs": [
    {
     "name": "stdout",
     "output_type": "stream",
     "text": [
      "0.6508812820294352\n"
     ]
    }
   ],
   "source": [
    "Ib = 0.34785*(funct(-0.861136+1)+funct(0.861136+1))+ 0.652145*(funct(-0.339981+1)+funct(0.339981+1))\n",
    "print(Ib)\n",
    "# true ans = 0.6508801680230075"
   ]
  },
  {
   "cell_type": "code",
   "execution_count": 24,
   "metadata": {},
   "outputs": [],
   "source": [
    "# ii)\n",
    "# to do this problem, you need to replace the infinity with a variable.\n",
    "# i chose to use t, which is used commonly for improper integrals.\n",
    "# then, you take the limit of the integral from t to infinity. \n",
    "# int from 1 to infinity of sinx/x^2 becomes limit from t to infinity \n",
    "# of int from 1 to t of sinx/x^2\n",
    "# this would fall under \"changing a variable\""
   ]
  },
  {
   "cell_type": "code",
   "execution_count": null,
   "metadata": {},
   "outputs": [],
   "source": [
    "# iii) \n",
    "# Monte Carlo integration is well-equipped for high dimensional integrals, (this problem is 2 dimensional)\n",
    "# and it's error decreases much faster than that of Simpson's Rule (simpson's rule depends on the dimension of d)\n",
    "# Also MC is able to handle complex boundaries that are seen in I2"
   ]
  }
 ],
 "metadata": {
  "kernelspec": {
   "display_name": "Python 3",
   "language": "python",
   "name": "python3"
  },
  "language_info": {
   "codemirror_mode": {
    "name": "ipython",
    "version": 3
   },
   "file_extension": ".py",
   "mimetype": "text/x-python",
   "name": "python",
   "nbconvert_exporter": "python",
   "pygments_lexer": "ipython3",
   "version": "3.7.4"
  }
 },
 "nbformat": 4,
 "nbformat_minor": 2
}
