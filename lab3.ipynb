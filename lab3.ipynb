{
 "cells": [
  {
   "cell_type": "code",
   "execution_count": 3,
   "metadata": {},
   "outputs": [],
   "source": [
    "# importing necessary packages\n",
    "import numpy as np\n",
    "import matplotlib.pyplot as plt"
   ]
  },
  {
   "cell_type": "code",
   "execution_count": 351,
   "metadata": {},
   "outputs": [],
   "source": [
    "def stabilityPlot(handle):\n",
    "    x = np.linspace(-5, 5, 500)\n",
    "    y = np.linspace(-5, 5, 500)\n",
    "    [X,Y] = np.meshgrid(x, y)\n",
    "    stab = np.zeros(np.shape(X))\n",
    "    for i in range(len(x)):\n",
    "        for j in range(len(y)):\n",
    "            z = X[i][j] + 1j*Y[i][j]\n",
    "            stab[i][j] = abs(handle(z))<1\n",
    "    plt.contourf(X,Y,stab,2)  \n",
    "    plt.xticks(np.arange(-5,6,1))\n",
    "    plt.yticks(np.arange(-5,6,1))\n",
    "    plt.gca().set_aspect('equal', adjustable='box')"
   ]
  },
  {
   "cell_type": "code",
   "execution_count": 352,
   "metadata": {},
   "outputs": [],
   "source": [
    "def RK4(func, y0, tf, tStep):\n",
    "    \n",
    "    t0 = 0\n",
    "    n = int((tf - t0)/tStep)\n",
    "    \n",
    "    t = np.zeros(int(n+1))\n",
    "    y = np.zeros(int(n+1))\n",
    "    \n",
    "    t[0] = t0\n",
    "    y[0] = y0\n",
    "    \n",
    "    for i in range(0, n):\n",
    "        f1 = func(t[i],y[i])\n",
    "        f2 = func(t[i] + tStep/2,y[i]+ tStep * f1/2)\n",
    "        f3 = func(t[i] + tStep/2,y[i]+ tStep * f2/2)\n",
    "        f4 = func(t[i] + tStep, y[i] + tStep * f3)\n",
    "        \n",
    "        t[i+1] = t[i] + tStep\n",
    "        y[i+1] = y[i] + tStep * (f1 + 2*f2 + 2*f3+ f4) / 6\n",
    "        \n",
    "    return y,t"
   ]
  },
  {
   "cell_type": "code",
   "execution_count": null,
   "metadata": {},
   "outputs": [],
   "source": []
  },
  {
   "cell_type": "code",
   "execution_count": 388,
   "metadata": {},
   "outputs": [
    {
     "name": "stdout",
     "output_type": "stream",
     "text": [
      "relative error = [3.6082055822595573e-06, 1.895091146116653e-07, 1.0457513989044157e-08, 6.057964805036296e-10, 3.629562585647513e-11]\n",
      "The rate of convergence is: 4.150281580392177\n"
     ]
    },
    {
     "data": {
      "image/png": "[encoded data removed]",
      "text/plain": [
       "<Figure size 432x288 with 1 Axes>"
      ]
     },
     "metadata": {
      "needs_background": "light"
     },
     "output_type": "display_data"
    }
   ],
   "source": [
    "realfunc = lambda x: -np.exp(1-np.cos(x))\n",
    "func = lambda t, y: y*np.sin(t)\n",
    "y0 = -1\n",
    "tf = 1 \n",
    "tStep = [1/4, 1/8, 1/16, 1/32, 1/64]\n",
    "\n",
    "y1, t1 = RK4(func, y0, tf, tStep[0])\n",
    "y2, t2 = RK4(func, y0, tf, tStep[1])\n",
    "y3, t3 = RK4(func, y0, tf, tStep[2])\n",
    "y4, t4 = RK4(func, y0, tf, tStep[3])\n",
    "y5, t5 = RK4(func, y0, tf, tStep[4])\n",
    "ys = [y1[-1], y2[-1], y3[-1], y4[-1], y5[-1]]\n",
    "\n",
    "realy = realfunc(1)\n",
    "realys = [abs((i-realy)/realy) for i in ys]\n",
    "print(\"relative error =\", realys)\n",
    "\n",
    "slope = (np.log(realys[-1])-np.log(realys[0]))/(np.log(tStep[-1])-np.log(tStep[0]))\n",
    "print(\"The rate of convergence is:\", slope)\n",
    "\n",
    "plt.loglog(tStep, realys, 'o')\n",
    "plt.xlabel('t Step Values')\n",
    "plt.ylabel(\"Error\")\n",
    "plt.show()"
   ]
  },
  {
   "cell_type": "code",
   "execution_count": 378,
   "metadata": {},
   "outputs": [],
   "source": [
    "# equation for all runge kutta methods' stability\n",
    "# RK# --> G = 1 + lamb*h + (lamb*h)**2/2! + (lamb*h)**3/3! + ... + (lamb*h)**n/n!\n",
    "\n",
    "# RK4 = 1 + lamb*h + (lamb*h)**2/2! + (lamb*h)**3/3! + (lamb*h)**4/4!\n",
    "# lamb * h = z\n",
    "# RK4 = 1 + z + (z**2)/2 + (z**3)/6 + (z**4)/24\n",
    "\n",
    "# OR \n",
    "\n",
    "# y[n+1] = yn + 1/6*k1 + 1/3*k2 + 2/3*k3 + k4/6\n",
    "# apply to y' = lambda*y\n",
    "\n",
    "# k1 = hf(tn,yn)\n",
    "# k2 = hf(tn + h/2, yn - k1/2)\n",
    "# k3 = hf(tn + h/2, yn + 3/4*k1 - k2/4)\n",
    "# k4 = hf(tn + h, yn - 2*k1 + k2 + 2*k3)\n",
    "\n",
    "# k1 = H*yn\n",
    "# k2 = H * (1 - H/2)*yn\n",
    "# k3 = H * (1 + 3/4*H - H/4*(1 - H/2))*yn\n",
    "# k4 = H * (1 - 2*H + H*(1 - H/2) + 2*H*(1 + 3/4*H - H/4*(1 - H/2)))*yn\n",
    "\n",
    "# H = z\n",
    "\n",
    "# sub back into y[n+1]\n",
    "# y[n+1] = yn + 1/6*z(Yn) + 1/3*(z*yn + 1/2*(z**2)*yn) + 1/3(z*yn + 1/2*(z**2)*yn + 1/4*(z**3)*yn) + 1/6*(z*yn + (z**2)*yn + 1/2*(z**3)*yn + 1/4*(z**4)*yn)\n",
    "# y[n+1] = [1 + z + z**2/2 + z**3/6 + h**4/24]yn\n",
    "# g = 1 + z + (z**2)/2 + (z**3)/6 + (z**4)/24"
   ]
  },
  {
   "cell_type": "code",
   "execution_count": 379,
   "metadata": {},
   "outputs": [
    {
     "data": {
      "image/png": "[encoded data removed]",
      "text/plain": [
       "<Figure size 432x288 with 1 Axes>"
      ]
     },
     "metadata": {
      "needs_background": "light"
     },
     "output_type": "display_data"
    }
   ],
   "source": [
    "g = lambda z: abs(1+z+(1/2)*(z**2) +1/6*(z**3)+1/24*(z**4)) <= 1\n",
    "stabilityPlot(g)\n",
    "plt.title('Region of stability of fourth-order range-kutta')\n",
    "plt.show()"
   ]
  },
  {
   "cell_type": "code",
   "execution_count": null,
   "metadata": {},
   "outputs": [],
   "source": []
  },
  {
   "cell_type": "code",
   "execution_count": 380,
   "metadata": {},
   "outputs": [],
   "source": [
    "def RK4New(func, y0, tf, tStep):\n",
    "    \n",
    "    t0 = 0\n",
    "    n = int((tf - t0)/tStep)\n",
    "    \n",
    "    t = np.zeros(int(n+1))\n",
    "    y = np.zeros(int(n+1))\n",
    "    \n",
    "    t[0] = t0\n",
    "    y[0] = y0\n",
    "    \n",
    "    for i in range(0, n):\n",
    "        f1 = func(t[i],y[i])\n",
    "        f2 = func(t[i] + tStep/2,y[i]+ tStep * f1/2)\n",
    "        f3 = func(t[i] + tStep/2,y[i]+ tStep * f2/2)\n",
    "        f4 = func(t[i] + tStep, y[i] + tStep * f3)\n",
    "        \n",
    "        t[i+1] = t[i] + tStep\n",
    "        y[i+1] = y[i] + tStep * (f1 + 2*f2 + 2*f3+ f4) / 6\n",
    "        \n",
    "    return y"
   ]
  },
  {
   "cell_type": "code",
   "execution_count": 381,
   "metadata": {},
   "outputs": [],
   "source": [
    "def AdamsBashforth(f, y0,tf,tStep,m):\n",
    "    t0 = 0\n",
    "    n = int((tf - t0)/tStep)\n",
    "    t = np.arange(t0,tf+tStep,tStep)\n",
    "    y = np.zeros(n+1)\n",
    "    y[0:m] = RK4New(f,y0,t0+(m-1)*tStep,tStep) #(func, y0, tf, tStep):\n",
    "    \n",
    "    if m == 2:\n",
    "        for i in range(m-1, n):\n",
    "            K1 = f(t[i-1],y[i-1])\n",
    "            K2 = f(t[i],y[i])\n",
    "            y[i+1] = y[i] + tStep*(3*K1-1*K2)/2   \n",
    "\n",
    "        return y, t\n",
    "    \n",
    "    if m == 3:\n",
    "        K1 = f(t[1],y[1])\n",
    "        K2 = f(t[0],y[0])\n",
    "        for i in range(m-1,n):  \n",
    "            K3 = K2\n",
    "            K2 = K1\n",
    "            K1 = f(t[i],y[i])\n",
    "            y[i+1] = y[i] + tStep*(23*K1-16*K2+5*K3)/12\n",
    "    \n",
    "        return y,t\n",
    "    \n",
    "    if m == 4:\n",
    "        K1 = f(t[2],y[2])\n",
    "        K2 = f(t[1],y[1])\n",
    "        K3 = f(t[0],y[0])\n",
    "        for i in range(m-1, n):\n",
    "            K4 = K3\n",
    "            K3 = K2\n",
    "            K2 = K1\n",
    "            K1 = f(t[i],y[i])\n",
    "            y[i+1] = y[i] + tStep*(55*K1-59*K2+37*K3-9*K4)/24\n",
    "    \n",
    "        return y,t\n",
    "    \n",
    "    if m == 5:\n",
    "        K1 = f(t[3],y[3])\n",
    "        K2 = f(t[2],y[2])\n",
    "        K3 = f(t[1],y[1])\n",
    "        K4 = f(t[0],y[0])\n",
    "        for i in range(m-1, n):\n",
    "            K5 = K4\n",
    "            K4 = K3\n",
    "            K3 = K2\n",
    "            K2 = K1\n",
    "            K1 = f(t[i],y[i])\n",
    "            y[i+1] = y[i] + tStep*(1901*K1-2774*K2+2616*K3-1274*K4+251*K5)/720\n",
    "\n",
    "        return y,t"
   ]
  },
  {
   "cell_type": "code",
   "execution_count": 382,
   "metadata": {},
   "outputs": [],
   "source": [
    "f = lambda t, y: y*np.sin(t)\n",
    "y0 = -1\n",
    "tf = 1\n",
    "tStep = [1/16, 1/32, 1/64, 1/128, 1/256]\n",
    "\n",
    "realfunc = lambda t: -np.exp(1-np.cos(t))\n",
    "realy = realfunc(1)"
   ]
  },
  {
   "cell_type": "code",
   "execution_count": 383,
   "metadata": {},
   "outputs": [
    {
     "data": {
      "image/png": "[encoded data removed]",
      "text/plain": [
       "<Figure size 432x288 with 1 Axes>"
      ]
     },
     "metadata": {
      "needs_background": "light"
     },
     "output_type": "display_data"
    },
    {
     "name": "stdout",
     "output_type": "stream",
     "text": [
      "The rate of convergence is 0.9327142797748114\n"
     ]
    }
   ],
   "source": [
    "m = 2\n",
    "m2 = []\n",
    "for i in range(0,5):\n",
    "    y2, t2 = AdamsBashforth(f, y0,tf,tStep[i],m)\n",
    "    m2.append(y2[-1])\n",
    "    \n",
    "error2 = [abs((i-realy)/realy) for i in m2]\n",
    "\n",
    "plt.loglog(tStep, error2, 'ro')\n",
    "plt.title('Error at T = 1 for m = 2 at different timesteps')\n",
    "plt.show()\n",
    "\n",
    "slope = (np.log(error2[-1])-np.log(error2[0]))/(np.log(tStep[-1])-np.log(tStep[0]))\n",
    "print(\"The rate of convergence is\", slope)"
   ]
  },
  {
   "cell_type": "code",
   "execution_count": 384,
   "metadata": {},
   "outputs": [
    {
     "data": {
      "image/png": "[encoded data removed]",
      "text/plain": [
       "<Figure size 432x288 with 1 Axes>"
      ]
     },
     "metadata": {
      "needs_background": "light"
     },
     "output_type": "display_data"
    },
    {
     "name": "stdout",
     "output_type": "stream",
     "text": [
      "The rate of convergence is 2.9560947944141835\n"
     ]
    }
   ],
   "source": [
    "m = 3\n",
    "m3 = []\n",
    "for i in range(0,5):\n",
    "    y3, t3 = AdamsBashforth(f, y0,tf,tStep[i],m)\n",
    "    m3.append(y3[-1])\n",
    "    \n",
    "error3 = [abs((i-realy)/realy) for i in m3]\n",
    "\n",
    "plt.loglog(tStep, error3, 'go')\n",
    "plt.title('Error at T = 1 for m = 3 at different timesteps')\n",
    "plt.show()\n",
    "\n",
    "slope = (np.log(error3[-1])-np.log(error3[0]))/(np.log(tStep[-1])-np.log(tStep[0]))\n",
    "print(\"The rate of convergence is\", slope)"
   ]
  },
  {
   "cell_type": "code",
   "execution_count": 385,
   "metadata": {},
   "outputs": [
    {
     "data": {
      "image/png": "[encoded data removed]",
      "text/plain": [
       "<Figure size 432x288 with 1 Axes>"
      ]
     },
     "metadata": {
      "needs_background": "light"
     },
     "output_type": "display_data"
    },
    {
     "name": "stdout",
     "output_type": "stream",
     "text": [
      "The rate of convergence is 3.827951016507931\n"
     ]
    }
   ],
   "source": [
    "m = 4\n",
    "m4 = []\n",
    "for i in range(0,5):\n",
    "    y4, t4 = AdamsBashforth(f, y0,tf,tStep[i],m)\n",
    "    m4.append(y4[-1])\n",
    "    \n",
    "error4 = [abs((i-realy)/realy) for i in m4]\n",
    "\n",
    "plt.loglog(tStep, error4, 'bo')\n",
    "plt.title('Error at T = 1 for m = 4 at different timesteps')\n",
    "plt.show()\n",
    "\n",
    "slope = (np.log(error4[-1])-np.log(error4[0]))/(np.log(tStep[-1])-np.log(tStep[0]))\n",
    "print(\"The rate of convergence is\", slope)"
   ]
  },
  {
   "cell_type": "code",
   "execution_count": 386,
   "metadata": {},
   "outputs": [
    {
     "data": {
      "image/png": "[encoded data removed]",
      "text/plain": [
       "<Figure size 432x288 with 1 Axes>"
      ]
     },
     "metadata": {
      "needs_background": "light"
     },
     "output_type": "display_data"
    },
    {
     "name": "stdout",
     "output_type": "stream",
     "text": [
      "The rate of convergence is 4.845758902931101\n"
     ]
    }
   ],
   "source": [
    "m = 5\n",
    "m5 = []\n",
    "for i in range(0,5):\n",
    "    y5, t5 = AdamsBashforth(f, y0,tf,tStep[i],m)\n",
    "    m5.append(y5[-1])\n",
    "    \n",
    "error5 = [abs((i-realy)/realy) for i in m5]\n",
    "\n",
    "plt.loglog(tStep, error5, 'yo')\n",
    "plt.title('Error at T = 1 for m = 5 at different timesteps')\n",
    "plt.show()\n",
    "\n",
    "slope = (np.log(error5[-1])-np.log(error5[0]))/(np.log(tStep[-1])-np.log(tStep[0]))\n",
    "print(\"The rate of convergence is\", slope)"
   ]
  },
  {
   "cell_type": "code",
   "execution_count": 387,
   "metadata": {
    "scrolled": true
   },
   "outputs": [
    {
     "name": "stdout",
     "output_type": "stream",
     "text": [
      "m=2 error is [0.1139971797399194, 0.06271169322424683, 0.03299845915063494, 0.01694194855287924, 0.00858606564869496]\n",
      "m=3 error is [0.00012599385241187034, 1.6864511613599047e-05, 2.1748425224705744e-06, 2.759276792262667e-07, 3.4742138128113097e-08]\n",
      "m=4 error is [3.4796798356900935e-06, 2.8189129974548857e-07, 1.9972648654581466e-08, 1.327648917347954e-09, 8.555137123080574e-11]\n",
      "m=5 error is [1.0821517857971013e-06, 4.279622494405648e-08, 1.4948700738676332e-09, 4.9317860844918185e-11, 1.5827526681548478e-12]\n"
     ]
    }
   ],
   "source": [
    "print(\"m=2 error is\", error2)\n",
    "print(\"m=3 error is\", error3)\n",
    "print(\"m=4 error is\", error4)\n",
    "print(\"m=5 error is\", error5)"
   ]
  }
 ],
 "metadata": {
  "kernelspec": {
   "display_name": "Python 3",
   "language": "python",
   "name": "python3"
  },
  "language_info": {
   "codemirror_mode": {
    "name": "ipython",
    "version": 3
   },
   "file_extension": ".py",
   "mimetype": "text/x-python",
   "name": "python",
   "nbconvert_exporter": "python",
   "pygments_lexer": "ipython3",
   "version": "3.7.4"
  }
 },
 "nbformat": 4,
 "nbformat_minor": 2
}
