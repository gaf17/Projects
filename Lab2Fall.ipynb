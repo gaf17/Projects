{
 "cells": [
  {
   "cell_type": "code",
   "execution_count": 71,
   "metadata": {},
   "outputs": [],
   "source": [
    "# importing necessary packages\n",
    "import numpy as np\n",
    "import matplotlib.pyplot as plt"
   ]
  },
  {
   "cell_type": "code",
   "execution_count": null,
   "metadata": {},
   "outputs": [],
   "source": []
  },
  {
   "cell_type": "code",
   "execution_count": 76,
   "metadata": {},
   "outputs": [],
   "source": [
    "# defining our newton's method \n",
    "def Newtons_Method(maxIter, tol, f, fprime, x_0):\n",
    "    \n",
    "    # counting iterations\n",
    "    iteration = 1\n",
    "    # set conditions for loop\n",
    "    while (iteration < maxIter and abs(f(x_0)) > tol):\n",
    "        # calculating xn\n",
    "        global x_1\n",
    "        x_1 = x_0 - f(x_0)/fprime(x_0)\n",
    "        # add to counter\n",
    "        iteration += 1\n",
    "        if abs(x_1-x_0) < tol:\n",
    "            break\n",
    "        else:\n",
    "            x_0 = x_1\n",
    "        \n",
    "    return x_1"
   ]
  },
  {
   "cell_type": "code",
   "execution_count": null,
   "metadata": {},
   "outputs": [],
   "source": []
  },
  {
   "cell_type": "code",
   "execution_count": 77,
   "metadata": {},
   "outputs": [],
   "source": [
    "def odeEuler(f,y0,initTime,finalT,tStep):\n",
    "    # creating the t array\n",
    "    t = np.arange(initTime,finalT+tStep,tStep) \n",
    "    # initializing y\n",
    "    y = np.zeros(len(t))\n",
    "    # adding first y value\n",
    "    y[0] = 1\n",
    "    #looping through values to find next y value\n",
    "    for n in range(0,len(t)-1):\n",
    "        y[n+1] = y[n] + f(y[n])*(t[n+1] - t[n])\n",
    "    return (t, y)"
   ]
  },
  {
   "cell_type": "code",
   "execution_count": null,
   "metadata": {},
   "outputs": [],
   "source": []
  },
  {
   "cell_type": "code",
   "execution_count": 78,
   "metadata": {
    "scrolled": true
   },
   "outputs": [
    {
     "data": {
      "image/png": "[encoded data removed]",
      "text/plain": [
       "<Figure size 432x288 with 1 Axes>"
      ]
     },
     "metadata": {
      "needs_background": "light"
     },
     "output_type": "display_data"
    }
   ],
   "source": [
    "# defining function and variables\n",
    "lamb = -8\n",
    "f = lambda y: -8*y\n",
    "tStep1 = 0.1\n",
    "\n",
    "# plugging into euler function\n",
    "t1, y1 = odeEuler(f,1,0, 10, tStep1)\n",
    "\n",
    "# ploting approximation\n",
    "plt.plot(t1, y1, 'b', label = 'Approximate solution')\n",
    "\n",
    "# exact solution for y values\n",
    "exacty = np.exp(lamb*t1)\n",
    "\n",
    "# plotting exact solution\n",
    "plt.plot(t1,exacty, 'r', label = 'Exact solution')\n",
    "\n",
    "# labeling axes\n",
    "plt.xlabel('t')\n",
    "plt.ylabel('y(t)')\n",
    "\n",
    "# creating legend\n",
    "plt.legend()\n",
    "\n",
    "# creating title\n",
    "plt.title('Forward Euler Approximation with deltaT = 0.1')\n",
    "\n",
    "# showing graph\n",
    "plt.show()"
   ]
  },
  {
   "cell_type": "code",
   "execution_count": 89,
   "metadata": {
    "scrolled": true
   },
   "outputs": [
    {
     "data": {
      "image/png": "[encoded data removed]",
      "text/plain": [
       "<Figure size 432x288 with 1 Axes>"
      ]
     },
     "metadata": {
      "needs_background": "light"
     },
     "output_type": "display_data"
    }
   ],
   "source": [
    "# defining function and variables\n",
    "lamb = -8\n",
    "f = lambda y: -8*y\n",
    "tStep2 = 0.3\n",
    "\n",
    "# plugging into euler function\n",
    "t1, y1 = odeEuler(f,1,0, 9.8, tStep2)\n",
    "\n",
    "# ploting approximation\n",
    "plt.plot(t1, y1, 'b')\n",
    "\n",
    "# labeling axes\n",
    "plt.xlabel('t')\n",
    "plt.ylabel('y(t)')\n",
    "\n",
    "# setting y limits \n",
    "plt.ylim([-80000, 60000])\n",
    "\n",
    "# creating title\n",
    "plt.title('Forward Euler Approximation with deltaT = 0.3')\n",
    "\n",
    "# showing graph\n",
    "plt.show()"
   ]
  },
  {
   "cell_type": "code",
   "execution_count": 80,
   "metadata": {},
   "outputs": [],
   "source": [
    "def Backward_Euler(y0, t0, finalTime, timeStep, F, Fdy):\n",
    "    # initializing t using inverse timestep\n",
    "    t = np.arange(t0, finalTime+timeStep, timeStep)\n",
    "    # initializing y \n",
    "    Y = np.zeros(len(t))\n",
    "    #setting initial y\n",
    "    Y[0] = y0\n",
    "    # plugging into backward euler step function\n",
    "    for i in range(1,len(t)):\n",
    "        Y[i] = Backward_Euler_Step(Y[i-1],t[i], timeStep, F, Fdy)\n",
    "        \n",
    "    return t, Y\n",
    "\n",
    "def Backward_Euler_Step(Yn, tNext, dt, F, Fdy):\n",
    "    # setting conditions for looping\n",
    "    MaxIter = 1000\n",
    "    tol = 1e-6\n",
    "    \n",
    "    # functions defined\n",
    "    G = lambda y: y-Yn-dt*F(y)\n",
    "    Gdy = lambda y: 1-dt*Fdy(y)\n",
    "    \n",
    "    # finding next y value by plugging into newton's method\n",
    "    YNext = Newtons_Method(MaxIter, tol, G, Gdy, Yn)\n",
    "    return YNext"
   ]
  },
  {
   "cell_type": "code",
   "execution_count": null,
   "metadata": {},
   "outputs": [],
   "source": []
  },
  {
   "cell_type": "code",
   "execution_count": 81,
   "metadata": {},
   "outputs": [
    {
     "data": {
      "image/png": "[encoded data removed]",
      "text/plain": [
       "<Figure size 432x288 with 1 Axes>"
      ]
     },
     "metadata": {
      "needs_background": "light"
     },
     "output_type": "display_data"
    }
   ],
   "source": [
    "# defining functions and variables \n",
    "lamb = -8\n",
    "timeStep1 = 0.1\n",
    "f = lambda x: -8*x\n",
    "fdy = lambda x: -8\n",
    "\n",
    "# creating two return values and running backward euler\n",
    "t, y = Backward_Euler(1, 0, 10, timeStep1, f, fdy)\n",
    "\n",
    "# y values of true function \n",
    "exacty = np.exp(lamb*t)\n",
    "\n",
    "# plotting approximated and exact solutions\n",
    "plt.plot(t, y, 'b', label = 'Approximate solution')\n",
    "plt.plot(t,exacty, 'r', label = 'Exact Solution')\n",
    "\n",
    "# labeling axes\n",
    "plt.xlabel('t')\n",
    "plt.ylabel('y(t)')\n",
    "\n",
    "# showing title and legend\n",
    "plt.title('Backward euler approximation with deltaT = 0.1')\n",
    "plt.legend()\n",
    "\n",
    "# showing graph\n",
    "plt.show()"
   ]
  },
  {
   "cell_type": "code",
   "execution_count": 82,
   "metadata": {},
   "outputs": [
    {
     "data": {
      "image/png": "[encoded data removed]",
      "text/plain": [
       "<Figure size 432x288 with 1 Axes>"
      ]
     },
     "metadata": {
      "needs_background": "light"
     },
     "output_type": "display_data"
    }
   ],
   "source": [
    "# defining functions again\n",
    "f = lambda x: -8*x\n",
    "fdy = lambda x: -8\n",
    "\n",
    "# defining time step\n",
    "timeStep1 = 0.3\n",
    "\n",
    "# creating two return values and running backward euler\n",
    "t, y = Backward_Euler(1, 0, 10, timeStep1, f, fdy)\n",
    "\n",
    "# y values of true function \n",
    "exacty = np.exp(lamb*t)\n",
    "\n",
    "# plotting approximated and exact solutions\n",
    "plt.plot(t, y, 'b', label = 'Approximate solution')\n",
    "plt.plot(t,exacty, 'r', label = 'Exact Solution')\n",
    "\n",
    "# labeling axes\n",
    "plt.xlabel('t')\n",
    "plt.ylabel('y(t)')\n",
    "\n",
    "# showing title and legend\n",
    "plt.title('Backward euler approximation with deltaT = 0.3')\n",
    "plt.legend()\n",
    "\n",
    "# showing graph\n",
    "plt.show()"
   ]
  },
  {
   "cell_type": "code",
   "execution_count": 83,
   "metadata": {},
   "outputs": [],
   "source": [
    "def stabilityPlot(handle):\n",
    "    # creating equispaced values within the range of [-5, 5]\n",
    "    x = np.linspace(-5, 5, 500)\n",
    "    y = np.linspace(-5, 5, 500)\n",
    "    \n",
    "    # creating a meshgrid of x and y values\n",
    "    [X,Y] = np.meshgrid(x, y)\n",
    "    \n",
    "    # initializing a list for stability values\n",
    "    stab = np.zeros(np.shape(X))\n",
    "    \n",
    "    # looping through the length of x and y \n",
    "    for i in range(len(x)):\n",
    "        for j in range(len(y)):\n",
    "            # imaginary points to plug into our function\n",
    "            z = X[i][j] + 1j*Y[i][j]\n",
    "            # defining stability point at z\n",
    "            stab[i][j] = abs(handle(z))<1\n",
    "            \n",
    "    # creating contour plot\n",
    "    plt.contourf(X,Y,stab,2)  \n",
    "    \n",
    "    # making ticks increase by 1\n",
    "    plt.xticks(np.arange(-5,6,1))\n",
    "    plt.yticks(np.arange(-5,6,1))\n",
    "    \n",
    "    # adjusting to make the stability region a circle\n",
    "    plt.gca().set_aspect('equal', adjustable='box')"
   ]
  },
  {
   "cell_type": "code",
   "execution_count": null,
   "metadata": {},
   "outputs": [],
   "source": []
  },
  {
   "cell_type": "code",
   "execution_count": 84,
   "metadata": {},
   "outputs": [
    {
     "data": {
      "text/plain": [
       "Text(0.5, 1.0, 'Region of stability for forward Euler')"
      ]
     },
     "execution_count": 84,
     "metadata": {},
     "output_type": "execute_result"
    },
    {
     "data": {
      "image/png": "[encoded data removed]",
      "text/plain": [
       "<Figure size 432x288 with 1 Axes>"
      ]
     },
     "metadata": {
      "needs_background": "light"
     },
     "output_type": "display_data"
    }
   ],
   "source": [
    "# defining our function for forward euler\n",
    "f = lambda z: abs(1+z) <= 1\n",
    "\n",
    "# running our function through stability plot\n",
    "stabilityPlot(f)\n",
    "\n",
    "# creating and showing title\n",
    "plt.title('Region of stability for forward Euler')"
   ]
  },
  {
   "cell_type": "code",
   "execution_count": 85,
   "metadata": {},
   "outputs": [
    {
     "data": {
      "text/plain": [
       "Text(0.5, 1.0, 'Region of stability of backward Euler')"
      ]
     },
     "execution_count": 85,
     "metadata": {},
     "output_type": "execute_result"
    },
    {
     "data": {
      "image/png": "[encoded data removed]",
      "text/plain": [
       "<Figure size 432x288 with 1 Axes>"
      ]
     },
     "metadata": {
      "needs_background": "light"
     },
     "output_type": "display_data"
    }
   ],
   "source": [
    "# defining our function for backward euler\n",
    "f = lambda z: abs(1/(1-z)) <= 1\n",
    "\n",
    "# running our function through stability plot\n",
    "stabilityPlot(f)\n",
    "\n",
    "# creating and showing title\n",
    "plt.title('Region of stability of backward Euler')"
   ]
  },
  {
   "cell_type": "code",
   "execution_count": 86,
   "metadata": {},
   "outputs": [],
   "source": [
    "# f = lambda * u\n",
    "# t = delta t\n",
    "\n",
    "# yn+1 = yn + t*lambda*(yn + t/2*lambda*yn)\n",
    "# yn+1 = yn + t*lambda*yn + 1/2*(t^2*lambda^2)*yn\n",
    "# yn+1 = yn(1 + t*lambda + 1/2*(t*lambda)^2)\n",
    "\n",
    "# amplification factor = 1 + t*lambda + 1/2*(t*lambda)^2\n",
    "# z = t*lambda\n",
    "# amplification factor reduced = 1 + z + 1/2*(z)^2\n",
    "\n",
    "# function will be abs(1 + z + 1/2*(z)^2) <= 1"
   ]
  },
  {
   "cell_type": "code",
   "execution_count": null,
   "metadata": {},
   "outputs": [],
   "source": []
  },
  {
   "cell_type": "code",
   "execution_count": 87,
   "metadata": {},
   "outputs": [
    {
     "data": {
      "text/plain": [
       "Text(0.5, 1.0, 'Region of stability of midpoint')"
      ]
     },
     "execution_count": 87,
     "metadata": {},
     "output_type": "execute_result"
    },
    {
     "data": {
      "image/png": "[encoded data removed]",
      "text/plain": [
       "<Figure size 432x288 with 1 Axes>"
      ]
     },
     "metadata": {
      "needs_background": "light"
     },
     "output_type": "display_data"
    }
   ],
   "source": [
    "# defining our function\n",
    "f = lambda z: abs(1+z+(1/2)*(z**2)) <= 1\n",
    "\n",
    "# running our function through stability plot\n",
    "stabilityPlot(f)\n",
    "\n",
    "# creating and showing title\n",
    "plt.title('Region of stability of midpoint')"
   ]
  },
  {
   "cell_type": "code",
   "execution_count": null,
   "metadata": {},
   "outputs": [],
   "source": []
  }
 ],
 "metadata": {
  "kernelspec": {
   "display_name": "Python 3",
   "language": "python",
   "name": "python3"
  },
  "language_info": {
   "codemirror_mode": {
    "name": "ipython",
    "version": 3
   },
   "file_extension": ".py",
   "mimetype": "text/x-python",
   "name": "python",
   "nbconvert_exporter": "python",
   "pygments_lexer": "ipython3",
   "version": "3.7.4"
  }
 },
 "nbformat": 4,
 "nbformat_minor": 2
}
