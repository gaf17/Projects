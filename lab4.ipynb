{
 "cells": [
  {
   "cell_type": "code",
   "execution_count": 10,
   "metadata": {},
   "outputs": [],
   "source": [
    "# importing necessary packages\n",
    "import numpy as np\n",
    "import scipy as sci\n",
    "import scipy.sparse\n",
    "import matplotlib.pyplot as plt\n",
    "import time"
   ]
  },
  {
   "cell_type": "code",
   "execution_count": null,
   "metadata": {},
   "outputs": [],
   "source": []
  },
  {
   "cell_type": "code",
   "execution_count": 11,
   "metadata": {},
   "outputs": [],
   "source": [
    "# defining dense function with boundaries and N as input\n",
    "def Finite_Difference_Dense(a,b,N):\n",
    "    # defining h \n",
    "    h = (b-a)/(N+1)\n",
    "    # creating plain matrix for A \n",
    "    A = np.zeros([N,N])\n",
    "    # filling in new values of A with double for loop\n",
    "    for i in range(N):\n",
    "        for j in range(N):\n",
    "            #conditions of Aij as in (5)\n",
    "            if i == j+1:\n",
    "                A[i][j] = -1/(h**2)\n",
    "            elif i == j-1:\n",
    "                A[i][j] = -1/(h**2)\n",
    "            elif i == j:\n",
    "                A[i][j] = 2/(h**2)\n",
    "            else:\n",
    "                A[i][j] = 0\n",
    "    # returning the matrix as output\n",
    "    return A"
   ]
  },
  {
   "cell_type": "code",
   "execution_count": null,
   "metadata": {},
   "outputs": [],
   "source": []
  },
  {
   "cell_type": "code",
   "execution_count": 12,
   "metadata": {},
   "outputs": [],
   "source": [
    "# defining the sparse function\n",
    "def Finite_Difference_Sparse(a, b, N):\n",
    "    # creating plain array for e values\n",
    "    h = np.ones(N)\n",
    "    # filling h with the h equation\n",
    "    for i in range(N):\n",
    "        h[i] = (b-a)/(N+1)\n",
    "    # classifying my B as the h conditions given in (5)\n",
    "    B = [-1/(h**2), 2/(h**2), -1/(h**2)]\n",
    "    # using spdiags to get matrix A\n",
    "    A = sci.sparse.spdiags(B, [-1, 0, 1], N,N) \n",
    "    # returning the resulting matrix\n",
    "    return A"
   ]
  },
  {
   "cell_type": "code",
   "execution_count": null,
   "metadata": {},
   "outputs": [],
   "source": []
  },
  {
   "cell_type": "code",
   "execution_count": 13,
   "metadata": {},
   "outputs": [],
   "source": [
    "def Thomas_Solver(a, b, c, d):\n",
    "    \n",
    "    # number of equations\n",
    "    numEq = len(d) \n",
    "    # copying the diagonals into more readable names\n",
    "    low, mid, upp, sol = a, b, c, d\n",
    "    # looping through the number of equations\n",
    "    for i in range(1, numEq):\n",
    "        # following instructions in (6) to classify values\n",
    "        subAB = low[i-1]/mid[i-1]\n",
    "        mid[i] = mid[i] - subAB*upp[i-1] \n",
    "        sol[i] = sol[i] - subAB*sol[i-1]\n",
    "    \n",
    "    # creating new variable copy to change last value\n",
    "    xi = mid\n",
    "    xi[-1] = sol[-1]/mid[-1]\n",
    "\n",
    "    # looping to find the solution xi\n",
    "    for j in range(numEq-2, -1, -1):\n",
    "        xi[j] = (sol[j]-upp[j]*xi[j+1])/mid[j]\n",
    "\n",
    "    return xi"
   ]
  },
  {
   "cell_type": "code",
   "execution_count": null,
   "metadata": {},
   "outputs": [],
   "source": []
  },
  {
   "cell_type": "code",
   "execution_count": 14,
   "metadata": {},
   "outputs": [],
   "source": [
    "def Poisson_Solver(string, f, a, b, ua, ub, N):\n",
    "    # setting up conditions for different strings\n",
    "    if string == 'dense':\n",
    "        # initializing A using the dense equation\n",
    "        A = Finite_Difference_Dense(a,b,N)\n",
    "        # initializing timesteps list\n",
    "        steps = np.linspace(a, b, N+1)\n",
    "        # initializing structure for list x to be filled later\n",
    "        x = np.ones(N)\n",
    "        # calculating h\n",
    "        h = (b-a)/(N+1)\n",
    "        \n",
    "        # looping through to find timesteps evaluated in function\n",
    "        for i in range(1, N):\n",
    "            x[i] = f(steps[i+1])\n",
    "            \n",
    "        # the second condition of fi changes here\n",
    "        x[1] = x[1] + 1/(h**2)*ua\n",
    "        x[-1] = x[-1] + 1/(h**2)*ub\n",
    "        \n",
    "        # using equivalent of backslash operator \n",
    "        U = np.linalg.solve(A, x)\n",
    "        \n",
    "    # in the case the string is 'sparse'\n",
    "    elif string == 'sparse':\n",
    "        # using sparse function defined above\n",
    "        A = Finite_Difference_Sparse(a,b,N).A\n",
    "        # initializing list of timesteps\n",
    "        steps = np.linspace(a, b, N+1)\n",
    "        # structure of set to be filled later\n",
    "        x = np.ones(N)\n",
    "        # calculating h\n",
    "        h = (b-a)/(N+1)\n",
    "        \n",
    "        # looping through to find timesteps evaluated in function\n",
    "        for i in range(1, N):\n",
    "            x[i] = f(steps[i+1])\n",
    "        \n",
    "        # the second condition of fi changes here\n",
    "        # adding the 1/h^2*ua and 1/h^2*ub\n",
    "        x[1] = x[1] + 1/(h**2)*ua\n",
    "        x[-1] = x[-1] + 1/(h**2)*ub\n",
    "        \n",
    "        # using equivalent of backslash operator\n",
    "        U = np.linalg.solve(A, x)\n",
    "        \n",
    "    # in the case the string is 'thomas'\n",
    "    elif string == 'thomas':\n",
    "        # using the sparse function to get A \n",
    "        A = Finite_Difference_Sparse(a,b,N).A\n",
    "        # initialize steps list\n",
    "        steps = np.linspace(a, b, N+1)\n",
    "        # calculating h\n",
    "        h = (b-a)/(N+1)\n",
    "        \n",
    "        # grab the diagonals necessary (a=low b = mid, c = upp, x = d)\n",
    "        low =  list(A.diagonal(-1))\n",
    "        mid = list(A.diagonal(0))\n",
    "        upp = list(A.diagonal(1))\n",
    "    \n",
    "        # initializing list to be filled later\n",
    "        x = np.ones(N)\n",
    "    \n",
    "        # looping through to find timesteps evaluated in function \n",
    "        for i in range(1, N):\n",
    "            x[i] = f(steps[i+1])\n",
    "\n",
    "        # the second condition of fi changes here\n",
    "        # adding the 1/h^2*ua and 1/h^2*ub\n",
    "        x[1] = x[1] + 1/(h**2)*ua\n",
    "        x[-1] = x[-1] + 1/(h**2)*ub\n",
    "        \n",
    "        # solution using the thomas solver defined above\n",
    "        U = Thomas_Solver(low, mid, upp, x)\n",
    "        \n",
    "    return U, x"
   ]
  },
  {
   "cell_type": "code",
   "execution_count": 15,
   "metadata": {},
   "outputs": [
    {
     "data": {
      "text/plain": [
       "array([[ 214.04100044, -107.02050022,    0.        , ...,    0.        ,\n",
       "           0.        ,    0.        ],\n",
       "       [-107.02050022,  214.04100044, -107.02050022, ...,    0.        ,\n",
       "           0.        ,    0.        ],\n",
       "       [   0.        , -107.02050022,  214.04100044, ...,    0.        ,\n",
       "           0.        ,    0.        ],\n",
       "       ...,\n",
       "       [   0.        ,    0.        ,    0.        , ...,  214.04100044,\n",
       "        -107.02050022,    0.        ],\n",
       "       [   0.        ,    0.        ,    0.        , ..., -107.02050022,\n",
       "         214.04100044, -107.02050022],\n",
       "       [   0.        ,    0.        ,    0.        , ...,    0.        ,\n",
       "        -107.02050022,  214.04100044]])"
      ]
     },
     "execution_count": 15,
     "metadata": {},
     "output_type": "execute_result"
    }
   ],
   "source": [
    "a = 0\n",
    "b = 2*np.pi\n",
    "N = 64\n",
    "Finite_Difference_Sparse(a, b, N).A"
   ]
  },
  {
   "cell_type": "code",
   "execution_count": 16,
   "metadata": {},
   "outputs": [
    {
     "data": {
      "text/plain": [
       "array([[ 214.04100044, -107.02050022,    0.        , ...,    0.        ,\n",
       "           0.        ,    0.        ],\n",
       "       [-107.02050022,  214.04100044, -107.02050022, ...,    0.        ,\n",
       "           0.        ,    0.        ],\n",
       "       [   0.        , -107.02050022,  214.04100044, ...,    0.        ,\n",
       "           0.        ,    0.        ],\n",
       "       ...,\n",
       "       [   0.        ,    0.        ,    0.        , ...,  214.04100044,\n",
       "        -107.02050022,    0.        ],\n",
       "       [   0.        ,    0.        ,    0.        , ..., -107.02050022,\n",
       "         214.04100044, -107.02050022],\n",
       "       [   0.        ,    0.        ,    0.        , ...,    0.        ,\n",
       "        -107.02050022,  214.04100044]])"
      ]
     },
     "execution_count": 16,
     "metadata": {},
     "output_type": "execute_result"
    }
   ],
   "source": [
    "a = 0\n",
    "b = 2*np.pi\n",
    "N = 64\n",
    "Finite_Difference_Dense(a, b, N)"
   ]
  },
  {
   "cell_type": "code",
   "execution_count": null,
   "metadata": {},
   "outputs": [],
   "source": [
    "# setting up input variables \n",
    "string = 'dense'\n",
    "f = lambda x: -6*x - np.sin(x)\n",
    "a = 0\n",
    "b = 2*np.pi\n",
    "ua = 5\n",
    "ub = 8*(np.pi**3)+5\n",
    "N = 64\n",
    "# calling function \n",
    "U, x = Poisson_Solver(string, f, a, b, ua, ub, N)\n",
    "\n",
    "# steps as x for graphing U as y\n",
    "steps = np.linspace(a, b, N)\n",
    "\n",
    "# setting up values for exact equation\n",
    "Xvals = np.linspace(0, 2*np.pi, 100)\n",
    "u = lambda x: x**3 - np.sin(x) + 5\n",
    "Yvals = u(Xvals)\n",
    "\n",
    "# plotting both on the same graph\n",
    "plt.plot(Xvals, Yvals, 'r--')\n",
    "plt.plot(steps, U, 'b')\n",
    "plt.legend(['exact', 'approx'])\n",
    "plt.show()"
   ]
  },
  {
   "cell_type": "code",
   "execution_count": null,
   "metadata": {},
   "outputs": [],
   "source": [
    "# setting up input variables \n",
    "string = 'sparse'\n",
    "f = lambda x: -6*x - np.sin(x)\n",
    "a = 0\n",
    "b = 2*np.pi\n",
    "ua = 5\n",
    "ub = 8*(np.pi**3)+5\n",
    "N = 64\n",
    "# calling function \n",
    "U, x = Poisson_Solver(string, f, a, b, ua, ub, N)\n",
    "\n",
    "# steps as x for graphing U as y\n",
    "steps = np.linspace(a, b, N)\n",
    "\n",
    "# setting up values for exact equation\n",
    "Xvals = np.linspace(0, 2*np.pi, 100)\n",
    "u = lambda x: x**3 - np.sin(x) + 5\n",
    "Yvals = u(Xvals)\n",
    "\n",
    "# plotting both on the same graph\n",
    "plt.plot(Xvals, Yvals, 'r--')\n",
    "plt.plot(steps, U, 'k')\n",
    "plt.legend(['exact', 'approx'])\n",
    "plt.show()"
   ]
  },
  {
   "cell_type": "code",
   "execution_count": null,
   "metadata": {},
   "outputs": [],
   "source": [
    "# setting up input variables \n",
    "string = 'thomas'\n",
    "f = lambda x: -6*x - np.sin(x)\n",
    "a = 0\n",
    "b = 2*np.pi\n",
    "ua = 5\n",
    "ub = 8*(np.pi**3)+5\n",
    "N = 64\n",
    "\n",
    "# calling function\n",
    "U, x = Poisson_Solver(string, f, a, b, ua, ub, N)\n",
    "\n",
    "# steps as x for graphing U as y\n",
    "steps = np.linspace(a, b, N)\n",
    "\n",
    "# setting up values for exact equation\n",
    "Xvals = np.linspace(0, 2*np.pi, 100)\n",
    "u = lambda x: x**3 - np.sin(x) + 5\n",
    "Yvals = u(Xvals)\n",
    "\n",
    "# plotting both on the same graph\n",
    "plt.plot(Xvals, Yvals, 'r--')\n",
    "plt.plot(steps, U, 'g')\n",
    "plt.legend(['exact', 'approx'])\n",
    "plt.show()"
   ]
  },
  {
   "cell_type": "code",
   "execution_count": null,
   "metadata": {},
   "outputs": [],
   "source": [
    "# setting up input variables \n",
    "string = 'sparse'\n",
    "f = lambda x: -6*x - np.sin(x)\n",
    "a = 0\n",
    "b = 2*np.pi\n",
    "ua = 5\n",
    "ub = 8*(np.pi**3)+5\n",
    "N = np.array([4, 8, 16, 32, 64, 128])\n",
    "\n",
    "# exact equation xs and y\n",
    "u = lambda x: x**3 - np.sin(x) + 5\n",
    "Yexact = u(N)\n",
    "\n",
    "# empty to be filled later\n",
    "Ys = []\n",
    "# appending the result for each N\n",
    "for i in N:\n",
    "    U, x = Poisson_Solver(string, f, a, b, ua, ub, i)\n",
    "    Ys.append(U)\n",
    "\n",
    "# empty to be filled later\n",
    "L2norm = []\n",
    "# appending l2 norm\n",
    "for i in range(len(N)):\n",
    "    L2norm.append(abs((1/np.sqrt(N[i]))*(np.sqrt(sum((Yexact[i]-Ys[i])**2)))))\n",
    "\n",
    "# empty to be filled later    \n",
    "LInfnorm = []\n",
    "# appending L infinity norm\n",
    "for i in range(len(N)):\n",
    "    LInfnorm.append(max(abs(Yexact[i]-Ys[i])))\n",
    "    \n",
    "# plotting on loglog scale both on the same graph\n",
    "plt.loglog(N, LInfnorm, 'o-')\n",
    "plt.loglog(N, L2norm, 'o-')\n",
    "\n",
    "# legend labels\n",
    "plt.legend(['Linf', 'L2'])\n",
    "plt.show()\n",
    "\n",
    "# slopes of loglog norms\n",
    "print(\"L Inf Norm\", np.log(LInfnorm[-1]-LInfnorm[0])/np.log(N[-1]-N[0]))\n",
    "print(\"L2 Norm\", np.log(L2norm[-1]-L2norm[0])/np.log(N[-1]-N[0]))"
   ]
  },
  {
   "cell_type": "code",
   "execution_count": null,
   "metadata": {},
   "outputs": [],
   "source": []
  },
  {
   "cell_type": "code",
   "execution_count": 16,
   "metadata": {},
   "outputs": [
    {
     "name": "stdout",
     "output_type": "stream",
     "text": [
      "[0.0019998550415039062, 0.0030014514923095703, 0.004998922348022461, 0.010002613067626953, 0.04800224304199219, 0.17401337623596191, 0.6680655479431152, 2.6122071743011475, 10.962820529937744, 46.535985231399536, 215.0061275959015, 1156.9006271362305]\n"
     ]
    }
   ],
   "source": [
    "# setting up variables to run function\n",
    "string = 'dense'\n",
    "f = lambda x: -6*x - np.sin(x)\n",
    "a = 0\n",
    "b = 2*np.pi\n",
    "ua = 5\n",
    "ub = 8*(np.pi**3)+5\n",
    "# N values given in the question\n",
    "N = [2**4, 2**5, 2**6, 2**7, 2**8, 2**9, 2**10, 2**11, 2**12, 2**13, 2**14, 2**15]\n",
    "\n",
    "# empty times to be filled later\n",
    "times = []\n",
    "\n",
    "# looping through all of the N values\n",
    "for i in range(len(N)):\n",
    "    # initial time\n",
    "    tic = time.time()\n",
    "    # function running at N[i]\n",
    "    U, x = Poisson_Solver(string, f, a, b, ua, ub, N[i])\n",
    "    # ending time\n",
    "    toc = time.time()\n",
    "    # elapsed time by subtracting initial from final\n",
    "    elapsed = toc-tic\n",
    "    # appending this value to array of times\n",
    "    times.append(elapsed)\n",
    "print(times)"
   ]
  },
  {
   "cell_type": "code",
   "execution_count": 33,
   "metadata": {
    "scrolled": true
   },
   "outputs": [
    {
     "data": {
      "text/plain": [
       "[<matplotlib.lines.Line2D at 0x23aafcd92c8>]"
      ]
     },
     "execution_count": 33,
     "metadata": {},
     "output_type": "execute_result"
    },
    {
     "data": {
      "image/png": "[encoded data removed]",
      "text/plain": [
       "<Figure size 432x288 with 1 Axes>"
      ]
     },
     "metadata": {
      "needs_background": "light"
     },
     "output_type": "display_data"
    }
   ],
   "source": [
    "# plotting N on x and times on y for loglog plot\n",
    "N = [2**4, 2**5, 2**6, 2**7, 2**8, 2**9, 2**10, 2**11, 2**12, 2**13, 2**14, 2**15]\n",
    "timesDense = [0.0019998550415039062, 0.0030014514923095703, 0.004998922348022461, 0.010002613067626953, 0.04800224304199219, 0.17401337623596191, 0.6680655479431152, 2.6122071743011475, 10.962820529937744, 46.535985231399536, 215.0061275959015, 1156.9006271362305]\n",
    "\n",
    "plt.loglog(N, timesDense, 'bo-')"
   ]
  },
  {
   "cell_type": "raw",
   "metadata": {},
   "source": [
    "# setting up variables to run function\n",
    "string = 'sparse'\n",
    "f = lambda x: -6*x - np.sin(x)\n",
    "a = 0\n",
    "b = 2*np.pi\n",
    "ua = 5\n",
    "ub = 8*(np.pi**3)+5\n",
    "# N values given in the question\n",
    "N = [2**4, 2**5, 2**6, 2**7, 2**8, 2**9, 2**10, 2**11, 2**12, 2**13, 2**14, 2**15]\n",
    "\n",
    "# empty times to be filled later\n",
    "times = []\n",
    "\n",
    "# looping through all of the N values\n",
    "for i in range(len(N)):\n",
    "    # initial time\n",
    "    tic = time.time()\n",
    "    # function running at N[i]\n",
    "    U, x = Poisson_Solver(string, f, a, b, ua, ub, N[i])\n",
    "    # ending time\n",
    "    toc = time.time()\n",
    "    # elapsed time by subtracting initial from final\n",
    "    elapsed = toc-tic\n",
    "    # appending this to times list\n",
    "    times.append(elapsed)\n",
    "print(times)"
   ]
  },
  {
   "cell_type": "code",
   "execution_count": 34,
   "metadata": {},
   "outputs": [
    {
     "data": {
      "text/plain": [
       "[<matplotlib.lines.Line2D at 0x23ab10f6508>]"
      ]
     },
     "execution_count": 34,
     "metadata": {},
     "output_type": "execute_result"
    },
    {
     "data": {
      "image/png": "[encoded data removed]",
      "text/plain": [
       "<Figure size 432x288 with 1 Axes>"
      ]
     },
     "metadata": {
      "needs_background": "light"
     },
     "output_type": "display_data"
    }
   ],
   "source": [
    "# x and y values for our loglog plot\n",
    "N = [2**4, 2**5, 2**6, 2**7, 2**8, 2**9, 2**10, 2**11, 2**12, 2**13, 2**14, 2**15]\n",
    "timesSparse = [0.0030002593994140625, 0.0010020732879638672, 0.002001047134399414, 0.0019979476928710938, 0.004000425338745117, 0.009999990463256836, 0.0390017032623291, 0.20301437377929688, 1.375103235244751, 8.535635471343994, 64.43085432052612, 564.1538195610046]\n",
    "\n",
    "# plotting on loglog scale \n",
    "plt.loglog(N, timesSparse, 'ko-')"
   ]
  },
  {
   "cell_type": "code",
   "execution_count": 9,
   "metadata": {},
   "outputs": [
    {
     "ename": "NameError",
     "evalue": "name 'Poisson_Solver' is not defined",
     "output_type": "error",
     "traceback": [
      "\u001b[1;31m---------------------------------------------------------------------------\u001b[0m",
      "\u001b[1;31mNameError\u001b[0m                                 Traceback (most recent call last)",
      "\u001b[1;32m<ipython-input-9-d311263fe54b>\u001b[0m in \u001b[0;36m<module>\u001b[1;34m\u001b[0m\n\u001b[0;32m     17\u001b[0m     \u001b[0mtic\u001b[0m \u001b[1;33m=\u001b[0m \u001b[0mtime\u001b[0m\u001b[1;33m.\u001b[0m\u001b[0mtime\u001b[0m\u001b[1;33m(\u001b[0m\u001b[1;33m)\u001b[0m\u001b[1;33m\u001b[0m\u001b[1;33m\u001b[0m\u001b[0m\n\u001b[0;32m     18\u001b[0m     \u001b[1;31m# running function at N[i]\u001b[0m\u001b[1;33m\u001b[0m\u001b[1;33m\u001b[0m\u001b[1;33m\u001b[0m\u001b[0m\n\u001b[1;32m---> 19\u001b[1;33m     \u001b[0mU\u001b[0m\u001b[1;33m,\u001b[0m \u001b[0mx\u001b[0m \u001b[1;33m=\u001b[0m \u001b[0mPoisson_Solver\u001b[0m\u001b[1;33m(\u001b[0m\u001b[0mstring\u001b[0m\u001b[1;33m,\u001b[0m \u001b[0mf\u001b[0m\u001b[1;33m,\u001b[0m \u001b[0ma\u001b[0m\u001b[1;33m,\u001b[0m \u001b[0mb\u001b[0m\u001b[1;33m,\u001b[0m \u001b[0mua\u001b[0m\u001b[1;33m,\u001b[0m \u001b[0mub\u001b[0m\u001b[1;33m,\u001b[0m \u001b[0mN\u001b[0m\u001b[1;33m[\u001b[0m\u001b[0mi\u001b[0m\u001b[1;33m]\u001b[0m\u001b[1;33m)\u001b[0m\u001b[1;33m\u001b[0m\u001b[1;33m\u001b[0m\u001b[0m\n\u001b[0m\u001b[0;32m     20\u001b[0m     \u001b[1;31m# ending time\u001b[0m\u001b[1;33m\u001b[0m\u001b[1;33m\u001b[0m\u001b[1;33m\u001b[0m\u001b[0m\n\u001b[0;32m     21\u001b[0m     \u001b[0mtoc\u001b[0m \u001b[1;33m=\u001b[0m \u001b[0mtime\u001b[0m\u001b[1;33m.\u001b[0m\u001b[0mtime\u001b[0m\u001b[1;33m(\u001b[0m\u001b[1;33m)\u001b[0m\u001b[1;33m\u001b[0m\u001b[1;33m\u001b[0m\u001b[0m\n",
      "\u001b[1;31mNameError\u001b[0m: name 'Poisson_Solver' is not defined"
     ]
    }
   ],
   "source": [
    "# setting up variables to run function\n",
    "string = 'thomas'\n",
    "f = lambda x: -6*x - np.sin(x)\n",
    "a = 0\n",
    "b = 2*np.pi\n",
    "ua = 5\n",
    "ub = 8*(np.pi**3)+5\n",
    "\n",
    "# N values given in the question\n",
    "N = [2**4, 2**5, 2**6, 2**7, 2**8, 2**9, 2**10, 2**11, 2**12, 2**13, 2**14, 2**15]\n",
    "\n",
    "# empty times to be filled later\n",
    "times = []\n",
    "\n",
    "for i in range(len(N)):\n",
    "    # initial time\n",
    "    tic = time.time()\n",
    "    # running function at N[i]\n",
    "    U, x = Poisson_Solver(string, f, a, b, ua, ub, N[i])\n",
    "    # ending time\n",
    "    toc = time.time()\n",
    "    # elapsed time by subtracting initial from final\n",
    "    elapsed = toc-tic\n",
    "    # appending this to times list\n",
    "    times.append(elapsed)\n",
    "print(times)"
   ]
  },
  {
   "cell_type": "code",
   "execution_count": 32,
   "metadata": {},
   "outputs": [
    {
     "data": {
      "text/plain": [
       "[<matplotlib.lines.Line2D at 0x23aafdd1688>]"
      ]
     },
     "execution_count": 32,
     "metadata": {},
     "output_type": "execute_result"
    },
    {
     "data": {
      "image/png": "[encoded data removed]",
      "text/plain": [
       "<Figure size 432x288 with 1 Axes>"
      ]
     },
     "metadata": {
      "needs_background": "light"
     },
     "output_type": "display_data"
    }
   ],
   "source": [
    "N = [2**4, 2**5, 2**6, 2**7, 2**8, 2**9, 2**10, 2**11, 2**12, 2**13, 2**14, 2**15]\n",
    "timesThomas = [0.0009980201721191406, 0.001003265380859375, 0.00099945068359375, 0.0021522045135498047, 0.002847909927368164, 0.003998756408691406, 0.008002519607543945, 0.015004158020019531, 0.03299713134765625, 0.06800389289855957, 0.14801239967346191, 0.3900301456451416]\n",
    "plt.loglog(N, timesThomas, 'go-')"
   ]
  },
  {
   "cell_type": "code",
   "execution_count": null,
   "metadata": {},
   "outputs": [],
   "source": []
  }
 ],
 "metadata": {
  "kernelspec": {
   "display_name": "Python 3",
   "language": "python",
   "name": "python3"
  },
  "language_info": {
   "codemirror_mode": {
    "name": "ipython",
    "version": 3
   },
   "file_extension": ".py",
   "mimetype": "text/x-python",
   "name": "python",
   "nbconvert_exporter": "python",
   "pygments_lexer": "ipython3",
   "version": "3.7.4"
  }
 },
 "nbformat": 4,
 "nbformat_minor": 2
}
